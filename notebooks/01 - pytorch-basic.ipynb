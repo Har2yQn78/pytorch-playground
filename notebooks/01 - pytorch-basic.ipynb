{
 "cells": [
  {
   "cell_type": "code",
   "id": "initial_id",
   "metadata": {
    "collapsed": true,
    "ExecuteTime": {
     "end_time": "2025-10-26T11:10:10.907692Z",
     "start_time": "2025-10-26T11:10:07.615271Z"
    }
   },
   "source": [
    "import torch\n",
    "\n",
    "x = torch.Tensor([5,3])\n",
    "y = torch.Tensor([2,1])\n",
    "\n",
    "print (x*y)"
   ],
   "outputs": [
    {
     "name": "stdout",
     "output_type": "stream",
     "text": [
      "tensor([10.,  3.])\n"
     ]
    }
   ],
   "execution_count": 1
  },
  {
   "metadata": {
    "ExecuteTime": {
     "end_time": "2025-10-26T11:10:10.956152Z",
     "start_time": "2025-10-26T11:10:10.953276Z"
    }
   },
   "cell_type": "code",
   "source": "x = torch.zeros([2, 5])",
   "id": "a1b9ed670809a272",
   "outputs": [],
   "execution_count": 2
  },
  {
   "metadata": {
    "ExecuteTime": {
     "end_time": "2025-10-26T11:10:10.978652Z",
     "start_time": "2025-10-26T11:10:10.975463Z"
    }
   },
   "cell_type": "code",
   "source": "print(x)",
   "id": "e5b453f18a4bd07b",
   "outputs": [
    {
     "name": "stdout",
     "output_type": "stream",
     "text": [
      "tensor([[0., 0., 0., 0., 0.],\n",
      "        [0., 0., 0., 0., 0.]])\n"
     ]
    }
   ],
   "execution_count": 3
  },
  {
   "metadata": {
    "ExecuteTime": {
     "end_time": "2025-10-26T11:10:11.032201Z",
     "start_time": "2025-10-26T11:10:11.027219Z"
    }
   },
   "cell_type": "code",
   "source": "x.shape",
   "id": "10614985980789b7",
   "outputs": [
    {
     "data": {
      "text/plain": [
       "torch.Size([2, 5])"
      ]
     },
     "execution_count": 4,
     "metadata": {},
     "output_type": "execute_result"
    }
   ],
   "execution_count": 4
  },
  {
   "metadata": {
    "ExecuteTime": {
     "end_time": "2025-10-26T11:10:11.086441Z",
     "start_time": "2025-10-26T11:10:11.081611Z"
    }
   },
   "cell_type": "code",
   "source": [
    "y = torch.rand([2,5])\n",
    "y"
   ],
   "id": "6d80fe36627337fb",
   "outputs": [
    {
     "data": {
      "text/plain": [
       "tensor([[0.4772, 0.7624, 0.1441, 0.5556, 0.3480],\n",
       "        [0.9280, 0.9293, 0.5851, 0.0477, 0.3492]])"
      ]
     },
     "execution_count": 5,
     "metadata": {},
     "output_type": "execute_result"
    }
   ],
   "execution_count": 5
  },
  {
   "metadata": {
    "ExecuteTime": {
     "end_time": "2025-10-26T11:12:36.328896Z",
     "start_time": "2025-10-26T11:12:36.325366Z"
    }
   },
   "cell_type": "code",
   "source": "y.view([1,10])",
   "id": "e4b9f4f478a330a8",
   "outputs": [
    {
     "data": {
      "text/plain": [
       "tensor([[0.4772, 0.7624, 0.1441, 0.5556, 0.3480, 0.9280, 0.9293, 0.5851, 0.0477,\n",
       "         0.3492]])"
      ]
     },
     "execution_count": 6,
     "metadata": {},
     "output_type": "execute_result"
    }
   ],
   "execution_count": 6
  },
  {
   "metadata": {
    "ExecuteTime": {
     "end_time": "2025-10-26T11:12:40.200194Z",
     "start_time": "2025-10-26T11:12:40.196085Z"
    }
   },
   "cell_type": "code",
   "source": "y",
   "id": "e47e3fbe5cd8ef0a",
   "outputs": [
    {
     "data": {
      "text/plain": [
       "tensor([[0.4772, 0.7624, 0.1441, 0.5556, 0.3480],\n",
       "        [0.9280, 0.9293, 0.5851, 0.0477, 0.3492]])"
      ]
     },
     "execution_count": 7,
     "metadata": {},
     "output_type": "execute_result"
    }
   ],
   "execution_count": 7
  },
  {
   "metadata": {
    "ExecuteTime": {
     "end_time": "2025-10-26T11:12:49.319339Z",
     "start_time": "2025-10-26T11:12:49.314285Z"
    }
   },
   "cell_type": "code",
   "source": "y = y.view([1,10])",
   "id": "4c9c7e76ddb292c8",
   "outputs": [],
   "execution_count": 8
  },
  {
   "metadata": {
    "ExecuteTime": {
     "end_time": "2025-10-26T11:12:50.540137Z",
     "start_time": "2025-10-26T11:12:50.535908Z"
    }
   },
   "cell_type": "code",
   "source": "y",
   "id": "3959093a80b0e071",
   "outputs": [
    {
     "data": {
      "text/plain": [
       "tensor([[0.4772, 0.7624, 0.1441, 0.5556, 0.3480, 0.9280, 0.9293, 0.5851, 0.0477,\n",
       "         0.3492]])"
      ]
     },
     "execution_count": 9,
     "metadata": {},
     "output_type": "execute_result"
    }
   ],
   "execution_count": 9
  },
  {
   "metadata": {},
   "cell_type": "code",
   "outputs": [],
   "execution_count": null,
   "source": "",
   "id": "2bd4b1b7e14456d2"
  },
  {
   "metadata": {
    "VisualizationCellData": {
     "variableName": "df1"
    }
   },
   "cell_type": "visualization",
   "outputs": [],
   "execution_count": null,
   "source": "",
   "id": "3e00a0d53ae9e861"
  }
 ],
 "metadata": {
  "kernelspec": {
   "display_name": "Python 3",
   "language": "python",
   "name": "python3"
  },
  "language_info": {
   "codemirror_mode": {
    "name": "ipython",
    "version": 2
   },
   "file_extension": ".py",
   "mimetype": "text/x-python",
   "name": "python",
   "nbconvert_exporter": "python",
   "pygments_lexer": "ipython2",
   "version": "2.7.6"
  }
 },
 "nbformat": 4,
 "nbformat_minor": 5
}
