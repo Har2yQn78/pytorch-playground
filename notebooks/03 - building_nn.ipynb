{
 "cells": [
  {
   "cell_type": "code",
   "id": "initial_id",
   "metadata": {
    "collapsed": true,
    "ExecuteTime": {
     "end_time": "2025-10-27T08:51:32.570366Z",
     "start_time": "2025-10-27T08:51:26.578610Z"
    }
   },
   "source": [
    "import torch\n",
    "import torchvision\n",
    "from torchvision import transforms, datasets"
   ],
   "outputs": [],
   "execution_count": 1
  },
  {
   "metadata": {
    "ExecuteTime": {
     "end_time": "2025-10-27T08:51:43.031021Z",
     "start_time": "2025-10-27T08:51:42.974567Z"
    }
   },
   "cell_type": "code",
   "source": [
    "train = datasets.MNIST(root='./data', train=True, download=False, transform=transforms.Compose([transforms.ToTensor()]))\n",
    "\n",
    "test = datasets.MNIST(root='./data', train=False, download=False, transform=transforms.Compose([transforms.ToTensor()]))"
   ],
   "id": "f1fc5f1f1d3f63b5",
   "outputs": [],
   "execution_count": 2
  },
  {
   "metadata": {
    "ExecuteTime": {
     "end_time": "2025-10-27T08:51:52.590195Z",
     "start_time": "2025-10-27T08:51:52.587071Z"
    }
   },
   "cell_type": "code",
   "source": [
    "trainset = torch.utils.data.DataLoader(train, batch_size=64, shuffle=True)\n",
    "\n",
    "testset = torch.utils.data.DataLoader(test, batch_size=64, shuffle=True)"
   ],
   "id": "9c509a7158f46d25",
   "outputs": [],
   "execution_count": 3
  },
  {
   "metadata": {
    "ExecuteTime": {
     "end_time": "2025-10-27T09:29:47.920466Z",
     "start_time": "2025-10-27T09:29:47.917801Z"
    }
   },
   "cell_type": "code",
   "source": [
    "import torch.nn as nn\n",
    "import torch.nn.functional as F"
   ],
   "id": "195b55df288de007",
   "outputs": [],
   "execution_count": 5
  },
  {
   "metadata": {
    "ExecuteTime": {
     "end_time": "2025-10-27T10:25:41.685117Z",
     "start_time": "2025-10-27T10:25:41.679585Z"
    }
   },
   "cell_type": "code",
   "source": [
    "class Net(nn.Module):\n",
    "    def __init__(self):\n",
    "        super().__init__()\n",
    "        self.fc1 = nn.Linear(28*28, 64)\n",
    "        self.fc2 = nn.Linear(64, 64)\n",
    "        self.fc3 = nn.Linear(64, 64)\n",
    "        self.fc4 = nn.Linear(64, 10)\n",
    "\n",
    "    def forward(self, x):\n",
    "        x = F.relu(self.fc1(x))\n",
    "        x = F.relu(self.fc2(x))\n",
    "        x = F.relu(self.fc3(x))\n",
    "        x = self.fc4(x)\n",
    "        return F.log_softmax(x, dim=1)\n",
    "\n",
    "\n",
    "net = Net()\n",
    "print(net)"
   ],
   "id": "f3bfc841229a148d",
   "outputs": [
    {
     "name": "stdout",
     "output_type": "stream",
     "text": [
      "Net(\n",
      "  (fc1): Linear(in_features=784, out_features=64, bias=True)\n",
      "  (fc2): Linear(in_features=64, out_features=64, bias=True)\n",
      "  (fc3): Linear(in_features=64, out_features=64, bias=True)\n",
      "  (fc4): Linear(in_features=64, out_features=10, bias=True)\n",
      ")\n"
     ]
    }
   ],
   "execution_count": 8
  },
  {
   "metadata": {
    "ExecuteTime": {
     "end_time": "2025-10-27T10:30:34.196833Z",
     "start_time": "2025-10-27T10:30:34.191082Z"
    }
   },
   "cell_type": "code",
   "source": [
    "X = torch.rand(28*28)\n",
    "X = X.view(1, 28*28)"
   ],
   "id": "58f871d058fefc46",
   "outputs": [],
   "execution_count": 14
  },
  {
   "metadata": {
    "ExecuteTime": {
     "end_time": "2025-10-27T10:30:34.321307Z",
     "start_time": "2025-10-27T10:30:34.315881Z"
    }
   },
   "cell_type": "code",
   "source": "output = net(X)",
   "id": "b550b1582f2c0f44",
   "outputs": [],
   "execution_count": 15
  },
  {
   "metadata": {
    "ExecuteTime": {
     "end_time": "2025-10-27T10:30:39.666192Z",
     "start_time": "2025-10-27T10:30:39.662487Z"
    }
   },
   "cell_type": "code",
   "source": "output",
   "id": "824290ffa5e98289",
   "outputs": [
    {
     "data": {
      "text/plain": [
       "tensor([[-2.2438, -2.3131, -2.3507, -2.2022, -2.4016, -2.3754, -2.2575, -2.2514,\n",
       "         -2.2940, -2.3555]], grad_fn=<LogSoftmaxBackward0>)"
      ]
     },
     "execution_count": 16,
     "metadata": {},
     "output_type": "execute_result"
    }
   ],
   "execution_count": 16
  },
  {
   "metadata": {},
   "cell_type": "code",
   "outputs": [],
   "execution_count": null,
   "source": "",
   "id": "56aa3ba5abf2656"
  }
 ],
 "metadata": {
  "kernelspec": {
   "display_name": "Python 3",
   "language": "python",
   "name": "python3"
  },
  "language_info": {
   "codemirror_mode": {
    "name": "ipython",
    "version": 2
   },
   "file_extension": ".py",
   "mimetype": "text/x-python",
   "name": "python",
   "nbconvert_exporter": "python",
   "pygments_lexer": "ipython2",
   "version": "2.7.6"
  }
 },
 "nbformat": 4,
 "nbformat_minor": 5
}
