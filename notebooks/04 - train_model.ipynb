{
 "cells": [
  {
   "cell_type": "code",
   "id": "initial_id",
   "metadata": {
    "collapsed": true,
    "ExecuteTime": {
     "end_time": "2025-10-28T08:00:44.438590Z",
     "start_time": "2025-10-28T08:00:42.544743Z"
    }
   },
   "source": [
    "import torch\n",
    "import torchvision\n",
    "from torchvision import transforms, datasets"
   ],
   "outputs": [],
   "execution_count": 1
  },
  {
   "metadata": {
    "ExecuteTime": {
     "end_time": "2025-10-28T08:00:44.492482Z",
     "start_time": "2025-10-28T08:00:44.444943Z"
    }
   },
   "cell_type": "code",
   "source": [
    "train = datasets.MNIST(root='./data', train=True, download=False, transform=transforms.Compose([transforms.ToTensor()]))\n",
    "\n",
    "test = datasets.MNIST(root='./data', train=False, download=False, transform=transforms.Compose([transforms.ToTensor()]))"
   ],
   "id": "f1fc5f1f1d3f63b5",
   "outputs": [],
   "execution_count": 2
  },
  {
   "metadata": {
    "ExecuteTime": {
     "end_time": "2025-10-28T08:00:44.501933Z",
     "start_time": "2025-10-28T08:00:44.498883Z"
    }
   },
   "cell_type": "code",
   "source": [
    "trainset = torch.utils.data.DataLoader(train, batch_size=64, shuffle=True)\n",
    "\n",
    "testset = torch.utils.data.DataLoader(test, batch_size=64, shuffle=True)"
   ],
   "id": "9c509a7158f46d25",
   "outputs": [],
   "execution_count": 3
  },
  {
   "metadata": {
    "ExecuteTime": {
     "end_time": "2025-10-28T08:00:44.550775Z",
     "start_time": "2025-10-28T08:00:44.548451Z"
    }
   },
   "cell_type": "code",
   "source": [
    "import torch.nn as nn\n",
    "import torch.nn.functional as F"
   ],
   "id": "195b55df288de007",
   "outputs": [],
   "execution_count": 4
  },
  {
   "metadata": {
    "ExecuteTime": {
     "end_time": "2025-10-28T08:00:44.707714Z",
     "start_time": "2025-10-28T08:00:44.702087Z"
    }
   },
   "cell_type": "code",
   "source": [
    "class Net(nn.Module):\n",
    "    def __init__(self):\n",
    "        super().__init__()\n",
    "        self.fc1 = nn.Linear(28*28, 64)\n",
    "        self.fc2 = nn.Linear(64, 64)\n",
    "        self.fc3 = nn.Linear(64, 64)\n",
    "        self.fc4 = nn.Linear(64, 10)\n",
    "\n",
    "    def forward(self, x):\n",
    "        x = F.relu(self.fc1(x))\n",
    "        x = F.relu(self.fc2(x))\n",
    "        x = F.relu(self.fc3(x))\n",
    "        x = self.fc4(x)\n",
    "        return F.log_softmax(x, dim=1)\n",
    "\n",
    "\n",
    "net = Net()\n",
    "print(net)"
   ],
   "id": "f3bfc841229a148d",
   "outputs": [
    {
     "name": "stdout",
     "output_type": "stream",
     "text": [
      "Net(\n",
      "  (fc1): Linear(in_features=784, out_features=64, bias=True)\n",
      "  (fc2): Linear(in_features=64, out_features=64, bias=True)\n",
      "  (fc3): Linear(in_features=64, out_features=64, bias=True)\n",
      "  (fc4): Linear(in_features=64, out_features=10, bias=True)\n",
      ")\n"
     ]
    }
   ],
   "execution_count": 5
  },
  {
   "metadata": {
    "ExecuteTime": {
     "end_time": "2025-10-28T08:00:45.102390Z",
     "start_time": "2025-10-28T08:00:45.099393Z"
    }
   },
   "cell_type": "code",
   "source": [
    "X = torch.rand(28*28)\n",
    "X = X.view(1, 28*28)"
   ],
   "id": "58f871d058fefc46",
   "outputs": [],
   "execution_count": 6
  },
  {
   "metadata": {
    "ExecuteTime": {
     "end_time": "2025-10-28T08:00:45.620753Z",
     "start_time": "2025-10-28T08:00:45.617198Z"
    }
   },
   "cell_type": "code",
   "source": "output = net(X)",
   "id": "b550b1582f2c0f44",
   "outputs": [],
   "execution_count": 7
  },
  {
   "metadata": {
    "ExecuteTime": {
     "end_time": "2025-10-28T08:00:46.214059Z",
     "start_time": "2025-10-28T08:00:46.200047Z"
    }
   },
   "cell_type": "code",
   "source": "output",
   "id": "824290ffa5e98289",
   "outputs": [
    {
     "data": {
      "text/plain": [
       "tensor([[-2.2916, -2.2772, -2.4923, -2.2177, -2.4062, -2.2322, -2.2503, -2.2138,\n",
       "         -2.2866, -2.3967]], grad_fn=<LogSoftmaxBackward0>)"
      ]
     },
     "execution_count": 8,
     "metadata": {},
     "output_type": "execute_result"
    }
   ],
   "execution_count": 8
  },
  {
   "metadata": {
    "ExecuteTime": {
     "end_time": "2025-10-28T09:32:45.035809Z",
     "start_time": "2025-10-28T09:32:12.987215Z"
    }
   },
   "cell_type": "code",
   "source": [
    "import torch.optim as optim\n",
    "\n",
    "optimizer = optim.Adam(net.parameters(), lr=0.001)\n",
    "\n",
    "EPOCHS = 5\n",
    "\n",
    "for epoch in range(EPOCHS):\n",
    "    for data in trainset:\n",
    "        X, y = data\n",
    "        net.zero_grad()\n",
    "        output = net(X.view(-1, 28*28))\n",
    "        loss = F.nll_loss(output, y)\n",
    "        loss.backward()\n",
    "        optimizer.step()\n",
    "    print(loss)"
   ],
   "id": "56aa3ba5abf2656",
   "outputs": [
    {
     "name": "stdout",
     "output_type": "stream",
     "text": [
      "tensor(0.0159, grad_fn=<NllLossBackward0>)\n",
      "tensor(0.1382, grad_fn=<NllLossBackward0>)\n",
      "tensor(0.1048, grad_fn=<NllLossBackward0>)\n",
      "tensor(0.0645, grad_fn=<NllLossBackward0>)\n",
      "tensor(0.0104, grad_fn=<NllLossBackward0>)\n"
     ]
    }
   ],
   "execution_count": 10
  },
  {
   "metadata": {
    "ExecuteTime": {
     "end_time": "2025-10-28T10:58:20.341227Z",
     "start_time": "2025-10-28T10:58:13.781223Z"
    }
   },
   "cell_type": "code",
   "source": [
    "correct = 0\n",
    "total = 0\n",
    "\n",
    "with torch.no_grad():\n",
    "    for data in trainset:\n",
    "        X,y = data\n",
    "        output = net(X.view(-1, 784))\n",
    "        for idx, i in enumerate(output):\n",
    "            if torch.argmax(i) == y[idx]:\n",
    "                correct += 1\n",
    "            total += 1\n",
    "\n",
    "\n",
    "print(\"Accuracy: {:.2f}%\".format(100 * correct / total))"
   ],
   "id": "c13c9b5caf85655",
   "outputs": [
    {
     "name": "stdout",
     "output_type": "stream",
     "text": [
      "Accuracy: 98.64%\n"
     ]
    }
   ],
   "execution_count": 13
  },
  {
   "metadata": {
    "ExecuteTime": {
     "end_time": "2025-10-28T11:10:57.283959Z",
     "start_time": "2025-10-28T11:10:57.197819Z"
    }
   },
   "cell_type": "code",
   "source": [
    "import matplotlib.pyplot as plt\n",
    "plt.imshow(X[8].view(28, 28))\n",
    "plt.show()"
   ],
   "id": "af5b41ca9c38d3b1",
   "outputs": [
    {
     "data": {
      "text/plain": [
       "<Figure size 640x480 with 1 Axes>"
      ],
      "image/png": "[encoded data removed]"
     },
     "metadata": {},
     "output_type": "display_data",
     "jetTransient": {
      "display_id": null
     }
    }
   ],
   "execution_count": 28
  },
  {
   "metadata": {
    "ExecuteTime": {
     "end_time": "2025-10-28T11:10:54.743738Z",
     "start_time": "2025-10-28T11:10:54.733283Z"
    }
   },
   "cell_type": "code",
   "source": "print(torch.argmax(net(X[8].view(-1, 784))[0]))",
   "id": "aec93ad9ed87721c",
   "outputs": [
    {
     "name": "stdout",
     "output_type": "stream",
     "text": [
      "tensor(3)\n"
     ]
    }
   ],
   "execution_count": 27
  },
  {
   "metadata": {},
   "cell_type": "code",
   "outputs": [],
   "execution_count": null,
   "source": "",
   "id": "d63adedc77fe63e8"
  }
 ],
 "metadata": {
  "kernelspec": {
   "display_name": "Python 3",
   "language": "python",
   "name": "python3"
  },
  "language_info": {
   "codemirror_mode": {
    "name": "ipython",
    "version": 2
   },
   "file_extension": ".py",
   "mimetype": "text/x-python",
   "name": "python",
   "nbconvert_exporter": "python",
   "pygments_lexer": "ipython2",
   "version": "2.7.6"
  }
 },
 "nbformat": 4,
 "nbformat_minor": 5
}
