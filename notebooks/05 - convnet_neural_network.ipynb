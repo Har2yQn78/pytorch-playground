{
 "cells": [
  {
   "cell_type": "code",
   "id": "initial_id",
   "metadata": {
    "collapsed": true,
    "ExecuteTime": {
     "end_time": "2025-11-01T11:31:43.693915Z",
     "start_time": "2025-11-01T11:31:43.688983Z"
    }
   },
   "source": [
    "import os\n",
    "import cv2\n",
    "import numpy as np\n",
    "from tqdm import tqdm\n",
    "\n",
    "REBUILD_DATA = False"
   ],
   "outputs": [],
   "execution_count": 10
  },
  {
   "metadata": {
    "ExecuteTime": {
     "end_time": "2025-11-01T11:28:03.733536Z",
     "start_time": "2025-11-01T11:27:50.425239Z"
    }
   },
   "cell_type": "code",
   "source": [
    "class DogsVSCats():\n",
    "    IMG_SIZE = 50\n",
    "    CATS = \"data/PetImages/Cat\"\n",
    "    DOGS = \"data/PetImages/Dog\"\n",
    "    LABELS = {CATS: 0, DOGS: 1}\n",
    "\n",
    "    training_data = []\n",
    "    catcount = 0\n",
    "    dogcount = 0\n",
    "\n",
    "    def make_training_data(self):\n",
    "        for label in self.LABELS:\n",
    "            print(label)\n",
    "            for f in tqdm(os.listdir(label)):\n",
    "                try:\n",
    "                    path = os.path.join(label, f)\n",
    "                    img = cv2.imread(path, cv2.IMREAD_GRAYSCALE)\n",
    "                    img = cv2.resize(img, (self.IMG_SIZE, self.IMG_SIZE))\n",
    "                    self.training_data.append([np.array(img), np.eye(2)[self.LABELS[label]]])\n",
    "\n",
    "                    if label == self.CATS:\n",
    "                        self.catcount += 1\n",
    "                    elif label == self.DOGS:\n",
    "                        self.dogcount += 1\n",
    "\n",
    "                except Exception as e:\n",
    "                    pass\n",
    "                    # print(str(e))\n",
    "\n",
    "\n",
    "            np.random.shuffle(self.training_data)\n",
    "            np.save(\"training_data.npy\", np.array(self.training_data, dtype=object))\n",
    "            print(\"Cats::,\" + str(self.catcount))\n",
    "            print(\"Dogs::,\" + str(self.dogcount))\n",
    "\n",
    "if REBUILD_DATA:\n",
    "    dogsvcats = DogsVSCats()\n",
    "    dogsvcats.make_training_data()"
   ],
   "id": "f63ad3cbdb89a052",
   "outputs": [
    {
     "name": "stdout",
     "output_type": "stream",
     "text": [
      "data/PetImages/Cat\n"
     ]
    },
    {
     "name": "stderr",
     "output_type": "stream",
     "text": [
      " 30%|███       | 3770/12501 [00:01<00:04, 2038.48it/s]Corrupt JPEG data: 128 extraneous bytes before marker 0xd9\n",
      " 44%|████▍     | 5474/12501 [00:02<00:03, 2094.83it/s]Corrupt JPEG data: 239 extraneous bytes before marker 0xd9\n",
      " 65%|██████▌   | 8149/12501 [00:03<00:02, 2061.63it/s]Corrupt JPEG data: 99 extraneous bytes before marker 0xd9\n",
      " 77%|███████▋  | 9614/12501 [00:04<00:01, 2027.67it/s]Corrupt JPEG data: 1153 extraneous bytes before marker 0xd9\n",
      " 99%|█████████▉| 12354/12501 [00:06<00:00, 2067.16it/s]Corrupt JPEG data: 214 extraneous bytes before marker 0xd9\n",
      "100%|██████████| 12501/12501 [00:06<00:00, 2046.45it/s]\n"
     ]
    },
    {
     "name": "stdout",
     "output_type": "stream",
     "text": [
      "Cats::,12498\n",
      "Dogs::,0\n",
      "data/PetImages/Dog\n"
     ]
    },
    {
     "name": "stderr",
     "output_type": "stream",
     "text": [
      "  1%|▏         | 165/12501 [00:00<00:07, 1640.35it/s]Corrupt JPEG data: 226 extraneous bytes before marker 0xd9\n",
      " 10%|█         | 1269/12501 [00:00<00:06, 1857.10it/s]Corrupt JPEG data: 162 extraneous bytes before marker 0xd9\n",
      " 21%|██        | 2609/12501 [00:01<00:05, 1896.02it/s]Corrupt JPEG data: 2230 extraneous bytes before marker 0xd9\n",
      " 44%|████▍     | 5505/12501 [00:02<00:03, 1956.98it/s]Warning: unknown JFIF revision number 0.00\n",
      " 49%|████▉     | 6105/12501 [00:03<00:03, 1600.75it/s]Corrupt JPEG data: 1403 extraneous bytes before marker 0xd9\n",
      " 50%|█████     | 6276/12501 [00:03<00:03, 1577.83it/s]Corrupt JPEG data: 254 extraneous bytes before marker 0xd9\n",
      " 79%|███████▉  | 9855/12501 [00:05<00:01, 1821.13it/s]Corrupt JPEG data: 399 extraneous bytes before marker 0xd9\n",
      " 82%|████████▏ | 10239/12501 [00:05<00:01, 1833.16it/s]Corrupt JPEG data: 65 extraneous bytes before marker 0xd9\n",
      "100%|██████████| 12501/12501 [00:06<00:00, 1842.11it/s]\n"
     ]
    },
    {
     "name": "stdout",
     "output_type": "stream",
     "text": [
      "Cats::,12498\n",
      "Dogs::,12499\n"
     ]
    }
   ],
   "execution_count": 7
  },
  {
   "metadata": {
    "ExecuteTime": {
     "end_time": "2025-11-01T11:31:30.426925Z",
     "start_time": "2025-11-01T11:31:30.301401Z"
    }
   },
   "cell_type": "code",
   "source": "training_data = np.load(\"training_data.npy\", allow_pickle=True)",
   "id": "ed33cb93628ce296",
   "outputs": [],
   "execution_count": 9
  },
  {
   "metadata": {
    "ExecuteTime": {
     "end_time": "2025-11-01T11:32:48.069129Z",
     "start_time": "2025-11-01T11:32:48.058619Z"
    }
   },
   "cell_type": "code",
   "source": [
    "print(len(training_data))\n",
    "print(training_data[67]) #dogs\n",
    "print(training_data[0]) #cats"
   ],
   "id": "13628e84e067f559",
   "outputs": [
    {
     "name": "stdout",
     "output_type": "stream",
     "text": [
      "24997\n",
      "[array([[ 11,  11,  11, ...,  15,  14,  13],\n",
      "        [ 13,  12,  13, ...,  14,  13,  13],\n",
      "        [  9,  10,  12, ...,  15,  15,  14],\n",
      "        ...,\n",
      "        [ 11,  10,  12, ..., 120, 127,  61],\n",
      "        [ 14,  12,  10, ..., 113, 123, 138],\n",
      "        [ 24,  25,  24, ..., 174, 177, 182]], shape=(50, 50), dtype=uint8)\n",
      " array([0., 1.])]\n",
      "[array([[107, 109, 111, ...,  37,  37,  34],\n",
      "        [109,  99, 118, ...,  32,  31,  33],\n",
      "        [ 95, 118, 135, ...,  35,  33,  31],\n",
      "        ...,\n",
      "        [ 81,  86,  86, ...,  27,  24,  22],\n",
      "        [ 87,  89,  92, ...,  34,  53,  73],\n",
      "        [ 88,  92,  98, ...,  89,  89,  86]], shape=(50, 50), dtype=uint8)\n",
      " array([1., 0.])]\n"
     ]
    }
   ],
   "execution_count": 15
  },
  {
   "metadata": {
    "ExecuteTime": {
     "end_time": "2025-11-01T11:34:01.404376Z",
     "start_time": "2025-11-01T11:34:01.321105Z"
    }
   },
   "cell_type": "code",
   "source": [
    "import matplotlib.pyplot as plt\n",
    "\n",
    "plt.imshow(training_data[67][0])\n",
    "plt.show()"
   ],
   "id": "378d96492d6c02a9",
   "outputs": [
    {
     "data": {
      "text/plain": [
       "<Figure size 640x480 with 1 Axes>"
      ],
      "image/png": "[encoded data removed]"
     },
     "metadata": {},
     "output_type": "display_data",
     "jetTransient": {
      "display_id": null
     }
    }
   ],
   "execution_count": 21
  },
  {
   "metadata": {},
   "cell_type": "code",
   "outputs": [],
   "execution_count": null,
   "source": "",
   "id": "76a283eef9a272a"
  }
 ],
 "metadata": {
  "kernelspec": {
   "display_name": "Python 3",
   "language": "python",
   "name": "python3"
  },
  "language_info": {
   "codemirror_mode": {
    "name": "ipython",
    "version": 2
   },
   "file_extension": ".py",
   "mimetype": "text/x-python",
   "name": "python",
   "nbconvert_exporter": "python",
   "pygments_lexer": "ipython2",
   "version": "2.7.6"
  }
 },
 "nbformat": 4,
 "nbformat_minor": 5
}
